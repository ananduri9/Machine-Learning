{
 "cells": [
  {
   "cell_type": "markdown",
   "metadata": {},
   "source": [
    "## Convolutional Neural Net\n",
    "\n",
    "Now, let's use the same MNIST database to classify handwritten digits, but this time, let's use a Convolutional Neural Net (CNN), and see if our performance improves."
   ]
  },
  {
   "cell_type": "markdown",
   "metadata": {},
   "source": [
    "## Imports\n",
    "Let's first import all necessary Python libraries."
   ]
  },
  {
   "cell_type": "code",
   "execution_count": 2,
   "metadata": {},
   "outputs": [
    {
     "name": "stderr",
     "output_type": "stream",
     "text": [
      "C:\\Users\\an345w\\AppData\\Local\\Continuum\\anaconda3\\envs\\ML2018\\lib\\site-packages\\h5py\\__init__.py:36: FutureWarning: Conversion of the second argument of issubdtype from `float` to `np.floating` is deprecated. In future, it will be treated as `np.float64 == np.dtype(float).type`.\n",
      "  from ._conv import register_converters as _register_converters\n",
      "Using TensorFlow backend.\n"
     ]
    }
   ],
   "source": [
    "import numpy as np\n",
    "import matplotlib.pyplot as plt\n",
    "\n",
    "from keras.datasets import mnist\n",
    "from keras.models import Sequential\n",
    "from keras.layers.core import Dense, Dropout, Activation, Flatten\n",
    "from keras.layers import Conv2D, MaxPooling2D\n",
    "from keras.layers import BatchNormalization\n",
    "from keras.utils import np_utils"
   ]
  },
  {
   "cell_type": "markdown",
   "metadata": {},
   "source": [
    "## Load Data\n",
    "\n",
    "Now let's load the mnist data."
   ]
  },
  {
   "cell_type": "code",
   "execution_count": 3,
   "metadata": {},
   "outputs": [
    {
     "name": "stdout",
     "output_type": "stream",
     "text": [
      "old x_train shape is:  (60000, 28, 28)\n",
      "old y_train shape is:  (60000,)\n",
      "old x_test shape is:  (10000, 28, 28)\n",
      "old y_test shape is:  (10000,)\n"
     ]
    }
   ],
   "source": [
    "num_classes = 10\n",
    "\n",
    "(x_train, y_train), (x_test, y_test) = mnist.load_data()\n",
    "\n",
    "print(\"old x_train shape is: \", x_train.shape)\n",
    "print(\"old y_train shape is: \", y_train.shape)\n",
    "\n",
    "print(\"old x_test shape is: \", x_test.shape)\n",
    "print(\"old y_test shape is: \", y_test.shape)\n",
    "\n",
    "\n",
    "#save this for later\n",
    "labels = y_test"
   ]
  },
  {
   "cell_type": "markdown",
   "metadata": {},
   "source": [
    "Again, let's just see what our data looks like:"
   ]
  },
  {
   "cell_type": "code",
   "execution_count": 4,
   "metadata": {},
   "outputs": [
    {
     "data": {
      "image/png": "[encoded data removed]",
      "text/plain": [
       "<Figure size 576x576 with 9 Axes>"
      ]
     },
     "metadata": {},
     "output_type": "display_data"
    }
   ],
   "source": [
    "plt.figure(figsize=(8,8))\n",
    "for i in range(9):\n",
    "    plt.subplot(3,3,i+1)\n",
    "    plt.axis('off')\n",
    "    plt.imshow(x_train[i], cmap='gray', interpolation='none')\n",
    "    plt.title(\"Class {}\".format(y_train[i]))"
   ]
  },
  {
   "cell_type": "markdown",
   "metadata": {},
   "source": [
    "## Format Data\n",
    "Before we build the model, let's make some minor adjustments."
   ]
  },
  {
   "cell_type": "code",
   "execution_count": 5,
   "metadata": {},
   "outputs": [
    {
     "name": "stdout",
     "output_type": "stream",
     "text": [
      "new x_train shape is:  (60000, 28, 28, 1)\n",
      "new y_train shape is:  (60000, 1)\n",
      "new x_test shape is:  (10000, 28, 28, 1)\n",
      "new y_test shape is:  (10000, 1)\n"
     ]
    }
   ],
   "source": [
    "# Resize features data to contain dimension for channels\n",
    "x_train = np.reshape(x_train, (60000, 28, 28, 1))\n",
    "x_test = np.reshape(x_test, (10000, 28, 28, 1))\n",
    "\n",
    "# Resize labels to be 1D vector\n",
    "y_train = np.reshape(y_train, (60000, 1))\n",
    "y_test = np.reshape(y_test, (10000, 1))\n",
    "\n",
    "print(\"new x_train shape is: \", x_train.shape)\n",
    "print(\"new y_train shape is: \", y_train.shape)\n",
    "\n",
    "print(\"new x_test shape is: \", x_test.shape)\n",
    "print(\"new y_test shape is: \", y_test.shape)\n",
    "\n",
    "# Convert labels to categories\n",
    "y_train = np_utils.to_categorical(y_train, num_classes)\n",
    "y_test = np_utils.to_categorical(y_test, num_classes)"
   ]
  },
  {
   "cell_type": "markdown",
   "metadata": {},
   "source": [
    "## Build Model\n",
    "Now let's build the CNN model."
   ]
  },
  {
   "cell_type": "code",
   "execution_count": 6,
   "metadata": {},
   "outputs": [],
   "source": [
    "# Create model\n",
    "model = Sequential()\n",
    "\n",
    "# Add first convolutional layer (28x28x1)\n",
    "model.add(Conv2D(input_shape=(28,28,1), data_format='channels_last',\n",
    "                filters=32, kernel_size=(3,3), strides=(1,1),\n",
    "                padding='same', kernel_initializer='he_uniform'))\n",
    "model.add(Activation('relu'))\n",
    "model.add(Dropout(0.2))\n",
    "\n",
    "# Add max-pooling layer (14x14x32)\n",
    "model.add(MaxPooling2D(pool_size=(2, 2), strides=None, padding='valid',\n",
    "                       data_format='channels_last'))\n",
    "\n",
    "# Add second convolutional layer (12x12x64)\n",
    "model.add(Conv2D(filters=64, kernel_size=(3,3), strides=(1,1),\n",
    "                 padding='valid'))\n",
    "model.add(Activation('relu'))\n",
    "model.add(Dropout(0.2))\n",
    "\n",
    "# Add third convolutional layer (10x10x128)\n",
    "model.add(Conv2D(filters=128, kernel_size=(3,3), strides=(1,1),\n",
    "                 padding='valid'))\n",
    "model.add(Activation('relu'))\n",
    "model.add(Dropout(0.2))\n",
    "\n",
    "# Add max-pooling layer (5x5x128)\n",
    "model.add(MaxPooling2D(pool_size=(2, 2), strides=None, padding='valid',\n",
    "                       data_format='channels_last'))\n",
    "\n",
    "# Flatten (3200,)\n",
    "model.add(Flatten())\n",
    "\n",
    "# Add a dense layer (512)\n",
    "model.add(Dense(512))\n",
    "model.add(BatchNormalization())\n",
    "model.add(Activation('relu'))\n",
    "model.add(Dropout(0.2))\n",
    "\n",
    "# Add one more dense layer (for good measure) (256)\n",
    "model.add(Dense(256))\n",
    "model.add(BatchNormalization())\n",
    "model.add(Activation('relu'))\n",
    "model.add(Dropout(0.2))\n",
    "\n",
    "# Finally, add softmax layer (10)\n",
    "model.add(Dense(10)) #for 10 classes\n",
    "model.add(Activation('softmax'))\n",
    "\n",
    "# Compile model with adam optimizer\n",
    "model.compile(loss='categorical_crossentropy', optimizer='adam', metrics=['accuracy'])"
   ]
  },
  {
   "cell_type": "markdown",
   "metadata": {},
   "source": [
    "## Train Model\n",
    "Now let's actually train the model."
   ]
  },
  {
   "cell_type": "code",
   "execution_count": 7,
   "metadata": {
    "scrolled": true
   },
   "outputs": [
    {
     "name": "stdout",
     "output_type": "stream",
     "text": [
      "Train on 60000 samples, validate on 10000 samples\n",
      "Epoch 1/17\n",
      "60000/60000 [==============================] - 215s 4ms/step - loss: 0.1188 - acc: 0.9638 - val_loss: 0.0690 - val_acc: 0.9790\n",
      "Epoch 2/17\n",
      "60000/60000 [==============================] - 211s 4ms/step - loss: 0.0440 - acc: 0.9871 - val_loss: 0.0550 - val_acc: 0.9833\n",
      "Epoch 3/17\n",
      "60000/60000 [==============================] - 210s 4ms/step - loss: 0.0338 - acc: 0.9896 - val_loss: 0.0536 - val_acc: 0.9827\n",
      "Epoch 4/17\n",
      "60000/60000 [==============================] - 201s 3ms/step - loss: 0.0264 - acc: 0.9917 - val_loss: 0.0351 - val_acc: 0.9884\n",
      "Epoch 5/17\n",
      "60000/60000 [==============================] - 203s 3ms/step - loss: 0.0237 - acc: 0.9924 - val_loss: 0.0362 - val_acc: 0.9887\n",
      "Epoch 6/17\n",
      "60000/60000 [==============================] - 198s 3ms/step - loss: 0.0190 - acc: 0.9936 - val_loss: 0.0352 - val_acc: 0.9890\n",
      "Epoch 7/17\n",
      "60000/60000 [==============================] - 200s 3ms/step - loss: 0.0174 - acc: 0.9939 - val_loss: 0.0302 - val_acc: 0.9904\n",
      "Epoch 8/17\n",
      "60000/60000 [==============================] - 201s 3ms/step - loss: 0.0156 - acc: 0.9945 - val_loss: 0.0277 - val_acc: 0.9916\n",
      "Epoch 9/17\n",
      "60000/60000 [==============================] - 201s 3ms/step - loss: 0.0147 - acc: 0.9954 - val_loss: 0.0388 - val_acc: 0.9878\n",
      "Epoch 10/17\n",
      "60000/60000 [==============================] - 201s 3ms/step - loss: 0.0119 - acc: 0.9960 - val_loss: 0.0268 - val_acc: 0.9923\n",
      "Epoch 11/17\n",
      "60000/60000 [==============================] - 201s 3ms/step - loss: 0.0110 - acc: 0.9965 - val_loss: 0.0278 - val_acc: 0.9917\n",
      "Epoch 12/17\n",
      "60000/60000 [==============================] - 201s 3ms/step - loss: 0.0107 - acc: 0.9965 - val_loss: 0.0283 - val_acc: 0.9921\n",
      "Epoch 13/17\n",
      "60000/60000 [==============================] - 208s 3ms/step - loss: 0.0104 - acc: 0.9965 - val_loss: 0.0310 - val_acc: 0.9909\n",
      "Epoch 14/17\n",
      "60000/60000 [==============================] - 201s 3ms/step - loss: 0.0095 - acc: 0.9968 - val_loss: 0.0255 - val_acc: 0.9924\n",
      "Epoch 15/17\n",
      "60000/60000 [==============================] - 201s 3ms/step - loss: 0.0096 - acc: 0.9968 - val_loss: 0.0289 - val_acc: 0.9921\n",
      "Epoch 16/17\n",
      "60000/60000 [==============================] - 201s 3ms/step - loss: 0.0088 - acc: 0.9970 - val_loss: 0.0221 - val_acc: 0.9930\n",
      "Epoch 17/17\n",
      "60000/60000 [==============================] - 201s 3ms/step - loss: 0.0069 - acc: 0.9977 - val_loss: 0.0221 - val_acc: 0.9939\n"
     ]
    },
    {
     "data": {
      "text/plain": [
       "<keras.callbacks.History at 0x117f9fd0>"
      ]
     },
     "execution_count": 7,
     "metadata": {},
     "output_type": "execute_result"
    }
   ],
   "source": [
    "model.fit(x_train, y_train, batch_size=128,\n",
    "         epochs=17, verbose=1, validation_data=(x_test, y_test))"
   ]
  },
  {
   "cell_type": "markdown",
   "metadata": {},
   "source": [
    "Let's see what this model looks like:"
   ]
  },
  {
   "cell_type": "code",
   "execution_count": 12,
   "metadata": {
    "scrolled": true
   },
   "outputs": [
    {
     "name": "stdout",
     "output_type": "stream",
     "text": [
      "_________________________________________________________________\n",
      "Layer (type)                 Output Shape              Param #   \n",
      "=================================================================\n",
      "conv2d_1 (Conv2D)            (None, 28, 28, 32)        320       \n",
      "_________________________________________________________________\n",
      "activation_1 (Activation)    (None, 28, 28, 32)        0         \n",
      "_________________________________________________________________\n",
      "dropout_1 (Dropout)          (None, 28, 28, 32)        0         \n",
      "_________________________________________________________________\n",
      "max_pooling2d_1 (MaxPooling2 (None, 14, 14, 32)        0         \n",
      "_________________________________________________________________\n",
      "conv2d_2 (Conv2D)            (None, 12, 12, 64)        18496     \n",
      "_________________________________________________________________\n",
      "activation_2 (Activation)    (None, 12, 12, 64)        0         \n",
      "_________________________________________________________________\n",
      "dropout_2 (Dropout)          (None, 12, 12, 64)        0         \n",
      "_________________________________________________________________\n",
      "conv2d_3 (Conv2D)            (None, 10, 10, 128)       73856     \n",
      "_________________________________________________________________\n",
      "activation_3 (Activation)    (None, 10, 10, 128)       0         \n",
      "_________________________________________________________________\n",
      "dropout_3 (Dropout)          (None, 10, 10, 128)       0         \n",
      "_________________________________________________________________\n",
      "max_pooling2d_2 (MaxPooling2 (None, 5, 5, 128)         0         \n",
      "_________________________________________________________________\n",
      "flatten_1 (Flatten)          (None, 3200)              0         \n",
      "_________________________________________________________________\n",
      "dense_1 (Dense)              (None, 512)               1638912   \n",
      "_________________________________________________________________\n",
      "batch_normalization_1 (Batch (None, 512)               2048      \n",
      "_________________________________________________________________\n",
      "activation_4 (Activation)    (None, 512)               0         \n",
      "_________________________________________________________________\n",
      "dropout_4 (Dropout)          (None, 512)               0         \n",
      "_________________________________________________________________\n",
      "dense_2 (Dense)              (None, 256)               131328    \n",
      "_________________________________________________________________\n",
      "batch_normalization_2 (Batch (None, 256)               1024      \n",
      "_________________________________________________________________\n",
      "activation_5 (Activation)    (None, 256)               0         \n",
      "_________________________________________________________________\n",
      "dropout_5 (Dropout)          (None, 256)               0         \n",
      "_________________________________________________________________\n",
      "dense_3 (Dense)              (None, 10)                2570      \n",
      "_________________________________________________________________\n",
      "activation_6 (Activation)    (None, 10)                0         \n",
      "=================================================================\n",
      "Total params: 1,868,554\n",
      "Trainable params: 1,867,018\n",
      "Non-trainable params: 1,536\n",
      "_________________________________________________________________\n"
     ]
    }
   ],
   "source": [
    "model.summary()"
   ]
  },
  {
   "cell_type": "markdown",
   "metadata": {},
   "source": [
    "## Evaluate Model\n",
    "Let's see how well our model ended up doing."
   ]
  },
  {
   "cell_type": "code",
   "execution_count": 10,
   "metadata": {},
   "outputs": [
    {
     "name": "stdout",
     "output_type": "stream",
     "text": [
      "10000/10000 [==============================] - 9s 890us/step\n",
      "Test score: 0.022142157768364996\n",
      "Test accuracy: 0.9939\n"
     ]
    }
   ],
   "source": [
    "score = model.evaluate(x_test, y_test)\n",
    "\n",
    "print(\"Test score:\", score[0])\n",
    "print(\"Test accuracy:\", score[1])"
   ]
  },
  {
   "cell_type": "markdown",
   "metadata": {},
   "source": [
    "Our CNN did end up performing remarkably better than our MLP in just 4 epochs (97.9% -> 99.15%) !"
   ]
  },
  {
   "cell_type": "markdown",
   "metadata": {},
   "source": [
    "Lets just take a look at a few examples that went wrong:"
   ]
  },
  {
   "cell_type": "code",
   "execution_count": 11,
   "metadata": {},
   "outputs": [
    {
     "data": {
      "image/png": "[encoded data removed]",
      "text/plain": [
       "<Figure size 576x576 with 3 Axes>"
      ]
     },
     "metadata": {},
     "output_type": "display_data"
    }
   ],
   "source": [
    "predictions = model.predict_classes(x_test)\n",
    "i, count = 0, 1\n",
    "\n",
    "plt.figure(figsize=(8,8))\n",
    "while count < 4 and i < 60000:\n",
    "    if predictions[i] != labels[i]:\n",
    "        plt.subplot(1,3,count)\n",
    "        plt.axis('off')\n",
    "        plt.imshow(x_test[i].reshape(28,28), cmap='gray', interpolation='none')\n",
    "        plt.title(\"Predicted {}, Class {}\".format(predictions[i], labels[i]))\n",
    "        count += 1\n",
    "    i += 1"
   ]
  },
  {
   "cell_type": "markdown",
   "metadata": {},
   "source": [
    "Even I can barely correctly identify these examples!"
   ]
  }
 ],
 "metadata": {
  "kernelspec": {
   "display_name": "Python 3",
   "language": "python",
   "name": "python3"
  },
  "language_info": {
   "codemirror_mode": {
    "name": "ipython",
    "version": 3
   },
   "file_extension": ".py",
   "mimetype": "text/x-python",
   "name": "python",
   "nbconvert_exporter": "python",
   "pygments_lexer": "ipython3",
   "version": "3.5.5"
  }
 },
 "nbformat": 4,
 "nbformat_minor": 2
}
