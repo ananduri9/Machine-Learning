{
 "cells": [
  {
   "cell_type": "markdown",
   "metadata": {},
   "source": [
    "## Convolutional Neural Net\n",
    "\n",
    "Now, let's use the same MNIST database to classify handwritten digits, but this time, let's use a Convolutional Neural Net (CNN), and see if our performance improves."
   ]
  },
  {
   "cell_type": "markdown",
   "metadata": {},
   "source": [
    "## Imports\n",
    "Let's first import all necessary Python libraries."
   ]
  },
  {
   "cell_type": "code",
   "execution_count": 60,
   "metadata": {},
   "outputs": [],
   "source": [
    "import numpy as np\n",
    "import matplotlib.pyplot as plt\n",
    "\n",
    "from keras.datasets import mnist\n",
    "from keras.models import Sequential\n",
    "from keras.layers.core import Dense, Dropout, Activation, Flatten\n",
    "from keras.layers import Conv2D, MaxPooling2D\n",
    "from keras.layers import BatchNormalization\n",
    "from keras.utils import np_utils"
   ]
  },
  {
   "cell_type": "markdown",
   "metadata": {},
   "source": [
    "## Load Data\n",
    "\n",
    "Now let's load the mnist data."
   ]
  },
  {
   "cell_type": "code",
   "execution_count": 57,
   "metadata": {},
   "outputs": [
    {
     "name": "stdout",
     "output_type": "stream",
     "text": [
      "old x_train shape is:  (60000, 28, 28)\n",
      "old y_train shape is:  (60000,)\n",
      "old x_test shape is:  (10000, 28, 28)\n",
      "old y_test shape is:  (10000,)\n"
     ]
    }
   ],
   "source": [
    "num_classes = 10\n",
    "\n",
    "(x_train, y_train), (x_test, y_test) = mnist.load_data()\n",
    "\n",
    "print(\"old x_train shape is: \", x_train.shape)\n",
    "print(\"old y_train shape is: \", y_train.shape)\n",
    "\n",
    "print(\"old x_test shape is: \", x_test.shape)\n",
    "print(\"old y_test shape is: \", y_test.shape)\n",
    "\n",
    "\n",
    "#save this for later\n",
    "labels = y_test"
   ]
  },
  {
   "cell_type": "markdown",
   "metadata": {},
   "source": [
    "Again, let's just see what our data looks like:"
   ]
  },
  {
   "cell_type": "code",
   "execution_count": 58,
   "metadata": {},
   "outputs": [
    {
     "data": {
      "image/png": "[encoded data removed]",
      "text/plain": [
       "<Figure size 576x576 with 9 Axes>"
      ]
     },
     "metadata": {},
     "output_type": "display_data"
    }
   ],
   "source": [
    "plt.figure(figsize=(8,8))\n",
    "for i in range(9):\n",
    "    plt.subplot(3,3,i+1)\n",
    "    plt.axis('off')\n",
    "    plt.imshow(x_train[i], cmap='gray', interpolation='none')\n",
    "    plt.title(\"Class {}\".format(y_train[i]))"
   ]
  },
  {
   "cell_type": "markdown",
   "metadata": {},
   "source": [
    "## Format Data\n",
    "Before we build the model, let's make some minor adjustments."
   ]
  },
  {
   "cell_type": "code",
   "execution_count": 59,
   "metadata": {},
   "outputs": [
    {
     "name": "stdout",
     "output_type": "stream",
     "text": [
      "new x_train shape is:  (60000, 28, 28, 1)\n",
      "new y_train shape is:  (60000, 1)\n",
      "new x_test shape is:  (10000, 28, 28, 1)\n",
      "new y_test shape is:  (10000, 1)\n"
     ]
    }
   ],
   "source": [
    "# Resize features data to contain dimension for channels\n",
    "x_train = np.reshape(x_train, (60000, 28, 28, 1))\n",
    "x_test = np.reshape(x_test, (10000, 28, 28, 1))\n",
    "\n",
    "# Resize labels to be 1D vector\n",
    "y_train = np.reshape(y_train, (60000, 1))\n",
    "y_test = np.reshape(y_test, (10000, 1))\n",
    "\n",
    "print(\"new x_train shape is: \", x_train.shape)\n",
    "print(\"new y_train shape is: \", y_train.shape)\n",
    "\n",
    "print(\"new x_test shape is: \", x_test.shape)\n",
    "print(\"new y_test shape is: \", y_test.shape)\n",
    "\n",
    "# Convert labels to categories\n",
    "y_train = np_utils.to_categorical(y_train, num_classes)\n",
    "y_test = np_utils.to_categorical(y_test, num_classes)"
   ]
  },
  {
   "cell_type": "markdown",
   "metadata": {},
   "source": [
    "## Build Model\n",
    "Now let's build the CNN model."
   ]
  },
  {
   "cell_type": "code",
   "execution_count": 68,
   "metadata": {},
   "outputs": [],
   "source": [
    "# Create model\n",
    "model = Sequential()\n",
    "\n",
    "# Add first convolutional layer\n",
    "model.add(Conv2D(input_shape=(28,28,1), data_format='channels_last',\n",
    "                filters=32, kernel_size=(3,3), strides=(1,1),\n",
    "                padding='same', kernel_initializer='he_uniform'))\n",
    "model.add(Activation('relu'))\n",
    "model.add(Dropout(0.2))\n",
    "\n",
    "# Add max-pooling layer\n",
    "model.add(MaxPooling2D(pool_size=(2, 2), strides=None, padding='valid',\n",
    "                       data_format='channels_last'))\n",
    "\n",
    "# Add second convolutional layer\n",
    "model.add(Conv2D(filters=64, kernel_size=(3,3), strides=(1,1),\n",
    "                 padding='valid'))\n",
    "model.add(Activation('relu'))\n",
    "model.add(Dropout(0.2))\n",
    "\n",
    "# Add third convolutional layer\n",
    "model.add(Conv2D(filters=128, kernel_size=(3,3), strides=(1,1),\n",
    "                 padding='valid'))\n",
    "model.add(Activation('relu'))\n",
    "model.add(Dropout(0.2))\n",
    "\n",
    "# Add max-pooling layer\n",
    "model.add(MaxPooling2D(pool_size=(2, 2), strides=None, padding='valid',\n",
    "                       data_format='channels_last'))\n",
    "\n",
    "# Flatten \n",
    "model.add(Flatten())\n",
    "\n",
    "# Add a dense layer\n",
    "model.add(Dense(512))\n",
    "model.add(BatchNormalization())\n",
    "model.add(Activation('relu'))\n",
    "model.add(Dropout(0.2))\n",
    "\n",
    "# Add one more dense layer (for good measure)\n",
    "model.add(Dense(256))\n",
    "model.add(BatchNormalization())\n",
    "model.add(Activation('relu'))\n",
    "model.add(Dropout(0.2))\n",
    "\n",
    "# Finally, add softmax layer\n",
    "model.add(Dense(10)) #for 10 classes\n",
    "model.add(Activation('softmax'))\n",
    "\n",
    "# Compile model with adam optimizer\n",
    "model.compile(loss='categorical_crossentropy', optimizer='adam', metrics=['accuracy'])"
   ]
  },
  {
   "cell_type": "markdown",
   "metadata": {},
   "source": [
    "## Train Model\n",
    "Now let's actually train the model."
   ]
  },
  {
   "cell_type": "code",
   "execution_count": 69,
   "metadata": {},
   "outputs": [
    {
     "name": "stdout",
     "output_type": "stream",
     "text": [
      "Train on 60000 samples, validate on 10000 samples\n",
      "Epoch 1/5\n",
      "60000/60000 [==============================] - 215s 4ms/step - loss: 0.1170 - acc: 0.9652 - val_loss: 0.0756 - val_acc: 0.9760\n",
      "Epoch 2/5\n",
      "60000/60000 [==============================] - 215s 4ms/step - loss: 0.0428 - acc: 0.9868 - val_loss: 0.0339 - val_acc: 0.9893\n",
      "Epoch 3/5\n",
      "60000/60000 [==============================] - 214s 4ms/step - loss: 0.0330 - acc: 0.9895 - val_loss: 0.0437 - val_acc: 0.9850\n",
      "Epoch 4/5\n",
      "60000/60000 [==============================] - 221s 4ms/step - loss: 0.0267 - acc: 0.9914 - val_loss: 0.0261 - val_acc: 0.9922\n",
      "Epoch 5/5\n",
      "60000/60000 [==============================] - 214s 4ms/step - loss: 0.0227 - acc: 0.9928 - val_loss: 0.0290 - val_acc: 0.9911\n"
     ]
    },
    {
     "data": {
      "text/plain": [
       "<keras.callbacks.History at 0x16728828>"
      ]
     },
     "execution_count": 69,
     "metadata": {},
     "output_type": "execute_result"
    }
   ],
   "source": [
    "model.fit(x_train, y_train, batch_size=128,\n",
    "         epochs=5, verbose=1, validation_data=(x_test, y_test))"
   ]
  },
  {
   "cell_type": "markdown",
   "metadata": {},
   "source": [
    "Performance actually decreased after the 4th epoch, so we'll leave num_epoch at 4."
   ]
  },
  {
   "cell_type": "markdown",
   "metadata": {},
   "source": [
    "## Evaluate Model\n",
    "Let's see how well our model ended up doing."
   ]
  },
  {
   "cell_type": "code",
   "execution_count": 70,
   "metadata": {},
   "outputs": [
    {
     "name": "stdout",
     "output_type": "stream",
     "text": [
      "10000/10000 [==============================] - 9s 856us/step\n",
      "Test score: 0.02904326814498054\n",
      "Test accuracy: 0.9911\n"
     ]
    }
   ],
   "source": [
    "score = model.evaluate(x_test, y_test)\n",
    "\n",
    "print(\"Test score:\", score[0])\n",
    "print(\"Test accuracy:\", score[1])"
   ]
  },
  {
   "cell_type": "markdown",
   "metadata": {},
   "source": [
    "Our CNN did end up performing remarkably better than our MLP in just 4 epochs (97.9% -> 99.15%) !"
   ]
  },
  {
   "cell_type": "markdown",
   "metadata": {},
   "source": [
    "Lets just take a look at a few examples that went wrong:"
   ]
  },
  {
   "cell_type": "code",
   "execution_count": 71,
   "metadata": {},
   "outputs": [
    {
     "data": {
      "image/png": "[encoded data removed]",
      "text/plain": [
       "<Figure size 576x576 with 3 Axes>"
      ]
     },
     "metadata": {},
     "output_type": "display_data"
    }
   ],
   "source": [
    "predictions = model.predict_classes(x_test)\n",
    "i, count = 0, 1\n",
    "\n",
    "plt.figure(figsize=(8,8))\n",
    "while count < 4 and i < 60000:\n",
    "    if predictions[i] != labels[i]:\n",
    "        plt.subplot(1,3,count)\n",
    "        plt.axis('off')\n",
    "        plt.imshow(x_test[i].reshape(28,28), cmap='gray', interpolation='none')\n",
    "        plt.title(\"Predicted {}, Class {}\".format(predictions[i], labels[i]))\n",
    "        count += 1\n",
    "    i += 1"
   ]
  },
  {
   "cell_type": "markdown",
   "metadata": {},
   "source": [
    "Even I can barely correctly identify these examples!"
   ]
  }
 ],
 "metadata": {
  "kernelspec": {
   "display_name": "Python 3",
   "language": "python",
   "name": "python3"
  },
  "language_info": {
   "codemirror_mode": {
    "name": "ipython",
    "version": 3
   },
   "file_extension": ".py",
   "mimetype": "text/x-python",
   "name": "python",
   "nbconvert_exporter": "python",
   "pygments_lexer": "ipython3",
   "version": "3.5.5"
  }
 },
 "nbformat": 4,
 "nbformat_minor": 2
}
